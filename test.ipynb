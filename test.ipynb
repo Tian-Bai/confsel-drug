{
 "cells": [
  {
   "cell_type": "code",
   "execution_count": 70,
   "metadata": {},
   "outputs": [
    {
     "name": "stdout",
     "output_type": "stream",
     "text": [
      "5059\n"
     ]
    },
    {
     "data": {
      "text/plain": [
       "5282"
      ]
     },
     "execution_count": 70,
     "metadata": {},
     "output_type": "execute_result"
    }
   ],
   "source": [
    "import pandas as pd\n",
    "\n",
    "name = 'THROMBIN'\n",
    "df = pd.read_csv(f\"data\\\\{name}_training_disguised.csv\")\n",
    "print(len(df))\n",
    "len([s for s in df.columns if s.startswith('D')])"
   ]
  },
  {
   "cell_type": "code",
   "execution_count": 71,
   "metadata": {},
   "outputs": [
    {
     "data": {
      "text/plain": [
       "0.48665744218224943"
      ]
     },
     "execution_count": 71,
     "metadata": {},
     "output_type": "execute_result"
    }
   ],
   "source": [
    "thresholds_map = {'NK1': 9.5, 'PGP': 0.5, 'LOGD': 4, '3A4': 4.5, 'CB1': 8.0, 'DPP4': 6.5, 'HIVINT': 7, 'HIVPROT': 9, 'METAB': 70, 'OX1': 7.5, 'OX2': 8, 'PPB': 2, 'RAT_F': 1.7, 'TDI': 1, 'THROMBIN': 7}\n",
    "\n",
    "len(df[df['Act'] >= thresholds_map[name]]) / len(df)"
   ]
  },
  {
   "cell_type": "code",
   "execution_count": 90,
   "metadata": {},
   "outputs": [
    {
     "data": {
      "text/plain": [
       "time_15_rb    4.795904\n",
       "time_15_rp    0.407922\n",
       "time_cs       0.178527\n",
       "dtype: float64"
      ]
     },
     "execution_count": 90,
     "metadata": {},
     "output_type": "execute_result"
    }
   ],
   "source": [
    "import os\n",
    "\n",
    "name = 'THROMBIN'\n",
    "df_ones = []\n",
    "for j in range(1, 101):\n",
    "    df = pd.read_csv(os.path.join(\"result\", f\"{name} 0.10\", f\"{name} 0.10 {j}.csv\"))\n",
    "    df = df[df['fdp_nominals'] == 0.2]\n",
    "    df_ones.append(df)\n",
    "df = pd.concat(df_ones).mean()[['time_15_rb', 'time_15_rp', 'time_cs']]\n",
    "\n",
    "df"
   ]
  }
 ],
 "metadata": {
  "kernelspec": {
   "display_name": "Python 3",
   "language": "python",
   "name": "python3"
  },
  "language_info": {
   "codemirror_mode": {
    "name": "ipython",
    "version": 3
   },
   "file_extension": ".py",
   "mimetype": "text/x-python",
   "name": "python",
   "nbconvert_exporter": "python",
   "pygments_lexer": "ipython3",
   "version": "3.9.13"
  }
 },
 "nbformat": 4,
 "nbformat_minor": 2
}
